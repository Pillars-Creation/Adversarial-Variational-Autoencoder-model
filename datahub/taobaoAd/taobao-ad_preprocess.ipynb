{
 "cells": [
  {
   "cell_type": "code",
   "execution_count": 1,
   "id": "e009205b",
   "metadata": {},
   "outputs": [],
   "source": [
    "import pandas as pd\n",
    "import numpy as np\n",
    "import matplotlib.pyplot as plt\n",
    "import pickle\n",
    "import nltk\n",
    "from nltk.tokenize import RegexpTokenizer"
   ]
  },
  {
   "cell_type": "code",
   "execution_count": 14,
   "id": "ff8e2461",
   "metadata": {},
   "outputs": [],
   "source": [
    "# read raw data\n",
    "raw_sample = pd.read_csv('./raw_sample.csv', engine='c')\n",
    "ad_feature = pd.read_csv('./ad_feature.csv', engine='c')\n",
    "user_profile = pd.read_csv('./user_profile.csv', engine = 'c')"
   ]
  },
  {
   "cell_type": "code",
   "execution_count": 15,
   "id": "ab475434",
   "metadata": {},
   "outputs": [],
   "source": [
    "# join samples\n",
    "sample = raw_sample.join(ad_feature.set_index('adgroup_id'), on='adgroup_id')\n",
    "sample = sample.join(user_profile.set_index('userid'), on='user')\n",
    "sample = sample.rename(columns = {\"adgroup_id\": \"item_id\", \"user\": \"user_id\"})\n",
    "sample = sample.drop('nonclk', axis=1)"
   ]
  },
  {
   "cell_type": "code",
   "execution_count": 16,
   "id": "3d0fc1b7",
   "metadata": {},
   "outputs": [
    {
     "name": "stdout",
     "output_type": "stream",
     "text": [
      "user_id\n",
      "item_id\n",
      "pid\n",
      "cate_id\n",
      "campaign_id\n",
      "customer\n",
      "brand\n",
      "cms_segid\n",
      "cms_group_id\n",
      "final_gender_code\n",
      "age_level\n",
      "pvalue_level\n",
      "shopping_level\n",
      "occupation\n",
      "new_user_class_level \n"
     ]
    },
    {
     "data": {
      "text/plain": "[('user_id', 1141730, 'spr'),\n ('item_id', 846812, 'spr'),\n ('pid', 3, 'spr'),\n ('cate_id', 6770, 'spr'),\n ('campaign_id', 423437, 'spr'),\n ('customer', 255876, 'spr'),\n ('brand', 99816, 'spr'),\n ('cms_segid', 99, 'spr'),\n ('cms_group_id', 15, 'spr'),\n ('final_gender_code', 4, 'spr'),\n ('age_level', 9, 'spr'),\n ('pvalue_level', 5, 'spr'),\n ('shopping_level', 5, 'spr'),\n ('occupation', 4, 'spr'),\n ('new_user_class_level ', 6, 'spr'),\n ('time_stamp', -1, 'ctn'),\n ('price', -1, 'ctn'),\n ('count', -1, 'ctn'),\n ('clk', 2, 'label')]"
     },
     "execution_count": 16,
     "metadata": {},
     "output_type": "execute_result"
    }
   ],
   "source": [
    "# define unique function\n",
    "def _unique(sample, fname):\n",
    "    tmp_df = pd.DataFrame()\n",
    "    tmp_df[fname] = sample[fname].unique()\n",
    "    num = len(tmp_df)\n",
    "    tmp_df['tmp_feature'] = range(num)\n",
    "    sample = sample.join(tmp_df.set_index(fname), on=fname)\n",
    "    sample.drop(fname, axis=1, inplace=True)\n",
    "    sample = sample.rename(columns = {\"tmp_feature\": fname})\n",
    "    return num, sample\n",
    "\n",
    "# preprocess fequency\n",
    "item2count = sample.groupby(['item_id']).size().reset_index(name='count').sort_values(by='count')\n",
    "sample = sample.join(item2count.set_index('item_id'), on='item_id')\n",
    "\n",
    "# preprocess and generate descripition\n",
    "spr_features = ['user_id', 'item_id', 'pid', 'cate_id', 'campaign_id', 'customer', 'brand', 'cms_segid', \\\n",
    "       'cms_group_id', 'final_gender_code', 'age_level', 'pvalue_level', \\\n",
    "       'shopping_level', 'occupation', 'new_user_class_level ']\n",
    "ctn_features = ['time_stamp', 'price', 'count']\n",
    "label = ['clk']\n",
    "description = []\n",
    "for spr_f in spr_features:\n",
    "    print(spr_f) \n",
    "    num, sample = _unique(sample, spr_f)\n",
    "    num += 1\n",
    "    sample[spr_f] = sample[spr_f].fillna(num - 1)\n",
    "    sample[spr_f] = sample[spr_f].astype('int')\n",
    "    description.append((spr_f, num, 'spr'))\n",
    "for ctn_f in ctn_features:\n",
    "    sample[ctn_f] = sample[ctn_f].fillna(0.0)\n",
    "    min_v = np.min(sample[ctn_f])\n",
    "    max_v = np.max(sample[ctn_f])\n",
    "    sample[ctn_f] = sample[ctn_f].map(lambda x: (x - min_v)/(max_v - min_v))\n",
    "    description.append((ctn_f, -1, 'ctn'))\n",
    "for l in label:\n",
    "    description.append((l, 2, 'label'))\n",
    "description"
   ]
  },
  {
   "cell_type": "code",
   "execution_count": 17,
   "id": "554f85b2",
   "metadata": {},
   "outputs": [],
   "source": [
    "x_pid0 = sample[sample['pid']==0][['item_id', 'user_id']]\n",
    "x_pid1 = sample[sample['pid']==1][['item_id', 'user_id']] "
   ]
  },
  {
   "cell_type": "code",
   "execution_count": 18,
   "id": "8ca99373",
   "metadata": {},
   "outputs": [
    {
     "name": "stdout",
     "output_type": "stream",
     "text": [
      "13767\n"
     ]
    }
   ],
   "source": [
    "print(len(set(x_pid0['user_id']).intersection(set(x_pid1['user_id']))))"
   ]
  },
  {
   "cell_type": "code",
   "execution_count": 19,
   "id": "db989881",
   "metadata": {},
   "outputs": [
    {
     "name": "stderr",
     "output_type": "stream",
     "text": [
      "/var/folders/9q/hk_sdcp9639b9mc6wk8d79yc0000gn/T/ipykernel_74443/556568839.py:14: FutureWarning: The frame.append method is deprecated and will be removed from pandas in a future version. Use pandas.concat instead.\n",
      "  train_base = train_base.append(df_hot, ignore_index=True)\n",
      "/var/folders/9q/hk_sdcp9639b9mc6wk8d79yc0000gn/T/ipykernel_74443/556568839.py:18: FutureWarning: The frame.append method is deprecated and will be removed from pandas in a future version. Use pandas.concat instead.\n",
      "  train_warm_a = train_warm_a.append(df_cold[: K], ignore_index=True)\n",
      "/var/folders/9q/hk_sdcp9639b9mc6wk8d79yc0000gn/T/ipykernel_74443/556568839.py:19: FutureWarning: The frame.append method is deprecated and will be removed from pandas in a future version. Use pandas.concat instead.\n",
      "  train_warm_b = train_warm_b.append(df_cold[K: 2*K], ignore_index=True)\n",
      "/var/folders/9q/hk_sdcp9639b9mc6wk8d79yc0000gn/T/ipykernel_74443/556568839.py:20: FutureWarning: The frame.append method is deprecated and will be removed from pandas in a future version. Use pandas.concat instead.\n",
      "  train_warm_c = train_warm_c.append(df_cold[2*K: 3*K], ignore_index=True)\n",
      "/var/folders/9q/hk_sdcp9639b9mc6wk8d79yc0000gn/T/ipykernel_74443/556568839.py:21: FutureWarning: The frame.append method is deprecated and will be removed from pandas in a future version. Use pandas.concat instead.\n",
      "  test = test.append(df_cold[3*K:], ignore_index=True)\n"
     ]
    },
    {
     "name": "stdout",
     "output_type": "stream",
     "text": [
      "train_base size: 3592047\n",
      "train_warm_a size: 270500\n",
      "train_warm_b size: 270500\n",
      "train_warm_c size: 270500\n",
      "test size: 109712\n",
      "description size: 19\n"
     ]
    }
   ],
   "source": [
    "# split dataset\n",
    "N, K = 2000, 500\n",
    "item2count = sample.groupby(['item_id']).size().reset_index(name='count').sort_values(by='count')\n",
    "item_ids = list(item2count['item_id'])\n",
    "counts = np.array(item2count['count'])\n",
    "\n",
    "item_ids, counts = np.asarray(item_ids), np.asarray(counts)\n",
    "hot_item_ids = item_ids[counts > N]\n",
    "cold_item_ids = item_ids[np.logical_and(counts <= N, counts >= 3 * K)]\n",
    "item_group = sample.groupby('item_id')\n",
    "train_base = pd.DataFrame()\n",
    "for item_id in hot_item_ids:\n",
    "    df_hot = item_group.get_group(item_id).sort_values(by='time_stamp')\n",
    "    train_base = train_base.append(df_hot, ignore_index=True)\n",
    "train_warm_a, train_warm_b, train_warm_c, test = pd.DataFrame(), pd.DataFrame(), pd.DataFrame(), pd.DataFrame()\n",
    "for item_id in cold_item_ids:\n",
    "    df_cold = item_group.get_group(item_id).sort_values(by='time_stamp')\n",
    "    train_warm_a = train_warm_a.append(df_cold[: K], ignore_index=True)\n",
    "    train_warm_b = train_warm_b.append(df_cold[K: 2*K], ignore_index=True)\n",
    "    train_warm_c = train_warm_c.append(df_cold[2*K: 3*K], ignore_index=True)\n",
    "    test = test.append(df_cold[3*K:], ignore_index=True)\n",
    "save_dic = {\n",
    "    'train_base': train_base.sort_values('time_stamp'),\n",
    "    'train_warm_a': train_warm_a.sort_values('time_stamp'),\n",
    "    'train_warm_b': train_warm_b.sort_values('time_stamp'),\n",
    "    'train_warm_c': train_warm_c.sort_values('time_stamp'),\n",
    "    'test': test.sort_values('time_stamp'),\n",
    "    'description': description\n",
    "}\n",
    "for name, df in save_dic.items():\n",
    "    print(\"{} size: {}\".format(name, len(df)))\n",
    "with open('./cold_start/emb_warm_split_preprocess_taobao-ad.pkl', 'bw+') as f:\n",
    "    pickle.dump(save_dic, f)"
   ]
  },
  {
   "cell_type": "code",
   "execution_count": 32,
   "id": "178977b6",
   "metadata": {},
   "outputs": [],
   "source": [
    "import pickle\n",
    "import numpy as np\n",
    "with open('./cold_start/emb_warm_split_preprocess_taobao-ad.pkl', 'rb+') as f:\n",
    "    data = pickle.load(f)"
   ]
  },
  {
   "cell_type": "code",
   "execution_count": 33,
   "id": "500e4667",
   "metadata": {},
   "outputs": [],
   "source": [
    "train_base = data['train_base']\n",
    "shuffle_idx = np.random.permutation(len(train_base))[:300 * 2048]\n",
    "res = train_base.iloc[shuffle_idx, ]\n",
    "data['train_base'] = res\n",
    "with open('./cold_start/small_emb_warm_split_preprocess_taobao-ad.pkl', 'wb+') as f:\n",
    "    pickle.dump(data, f)"
   ]
  },
  {
   "cell_type": "code",
   "execution_count": 22,
   "id": "ddb9a24d",
   "metadata": {},
   "outputs": [
    {
     "data": {
      "text/plain": "         time_stamp  clk         price     count  user_id  item_id  pid  \\\n2520566    0.729391    0  3.679900e-06  0.094152   263958   245935    0   \n2741285    0.850634    0  3.949900e-06  0.117373     9792   537924    0   \n1134377    0.867707    0  1.989900e-06  0.042240    56993   134186    0   \n2831406    0.864230    0  9.799000e-07  0.130061   405608   232362    0   \n2503322    0.492801    0  1.589900e-06  0.092107   980437   275301    0   \n...             ...  ...           ...       ...      ...      ...  ...   \n3353110    0.621215    0  2.159900e-06  0.234026   495845   211059    1   \n2367573    0.475052    0  2.979900e-06  0.085002   649982   190576    0   \n1683533    0.594184    0  1.879900e-06  0.054760   216231   242976    0   \n1685721    0.368387    0  3.879000e-07  0.054887   210045   460235    1   \n1004577    0.226344    0  8.399000e-07  0.040111   120987   788310    1   \n\n         cate_id  campaign_id  customer  brand  cms_segid  cms_group_id  \\\n2520566      245       164355    113903  53196          9             2   \n2741285     3424       162277    101956  49070         44             2   \n1134377      243        97458     78980  40467          0             7   \n2831406      846       156784    119427   2576         15             4   \n2503322      245       170485    118291      1          0             4   \n...          ...          ...       ...    ...        ...           ...   \n3353110      245       126728     75484      1          0             9   \n2367573      245       132980    103910   4182         26             9   \n1683533     2591       162749    123260      1          0             8   \n1685721     3424       125651     98958      1          0             8   \n1004577       75       403215    112674  10487          0             4   \n\n         final_gender_code  age_level  pvalue_level  shopping_level  \\\n2520566                  2          2             1               0   \n2741285                  2          2             3               0   \n1134377                  0          2             0               2   \n2831406                  0          4             1               0   \n2503322                  0          4             3               0   \n...                    ...        ...           ...             ...   \n3353110                  2          0             0               0   \n2367573                  2          0             3               0   \n1683533                  2          3             0               0   \n1685721                  2          3             0               0   \n1004577                  0          4             0               0   \n\n         occupation  new_user_class_level   \n2520566           0                      1  \n2741285           0                      2  \n1134377           0                      0  \n2831406           0                      4  \n2503322           0                      0  \n...             ...                    ...  \n3353110           0                      1  \n2367573           0                      1  \n1683533           0                      0  \n1685721           0                      4  \n1004577           0                      1  \n\n[1638400 rows x 19 columns]",
      "text/html": "<div>\n<style scoped>\n    .dataframe tbody tr th:only-of-type {\n        vertical-align: middle;\n    }\n\n    .dataframe tbody tr th {\n        vertical-align: top;\n    }\n\n    .dataframe thead th {\n        text-align: right;\n    }\n</style>\n<table border=\"1\" class=\"dataframe\">\n  <thead>\n    <tr style=\"text-align: right;\">\n      <th></th>\n      <th>time_stamp</th>\n      <th>clk</th>\n      <th>price</th>\n      <th>count</th>\n      <th>user_id</th>\n      <th>item_id</th>\n      <th>pid</th>\n      <th>cate_id</th>\n      <th>campaign_id</th>\n      <th>customer</th>\n      <th>brand</th>\n      <th>cms_segid</th>\n      <th>cms_group_id</th>\n      <th>final_gender_code</th>\n      <th>age_level</th>\n      <th>pvalue_level</th>\n      <th>shopping_level</th>\n      <th>occupation</th>\n      <th>new_user_class_level</th>\n    </tr>\n  </thead>\n  <tbody>\n    <tr>\n      <th>2520566</th>\n      <td>0.729391</td>\n      <td>0</td>\n      <td>3.679900e-06</td>\n      <td>0.094152</td>\n      <td>263958</td>\n      <td>245935</td>\n      <td>0</td>\n      <td>245</td>\n      <td>164355</td>\n      <td>113903</td>\n      <td>53196</td>\n      <td>9</td>\n      <td>2</td>\n      <td>2</td>\n      <td>2</td>\n      <td>1</td>\n      <td>0</td>\n      <td>0</td>\n      <td>1</td>\n    </tr>\n    <tr>\n      <th>2741285</th>\n      <td>0.850634</td>\n      <td>0</td>\n      <td>3.949900e-06</td>\n      <td>0.117373</td>\n      <td>9792</td>\n      <td>537924</td>\n      <td>0</td>\n      <td>3424</td>\n      <td>162277</td>\n      <td>101956</td>\n      <td>49070</td>\n      <td>44</td>\n      <td>2</td>\n      <td>2</td>\n      <td>2</td>\n      <td>3</td>\n      <td>0</td>\n      <td>0</td>\n      <td>2</td>\n    </tr>\n    <tr>\n      <th>1134377</th>\n      <td>0.867707</td>\n      <td>0</td>\n      <td>1.989900e-06</td>\n      <td>0.042240</td>\n      <td>56993</td>\n      <td>134186</td>\n      <td>0</td>\n      <td>243</td>\n      <td>97458</td>\n      <td>78980</td>\n      <td>40467</td>\n      <td>0</td>\n      <td>7</td>\n      <td>0</td>\n      <td>2</td>\n      <td>0</td>\n      <td>2</td>\n      <td>0</td>\n      <td>0</td>\n    </tr>\n    <tr>\n      <th>2831406</th>\n      <td>0.864230</td>\n      <td>0</td>\n      <td>9.799000e-07</td>\n      <td>0.130061</td>\n      <td>405608</td>\n      <td>232362</td>\n      <td>0</td>\n      <td>846</td>\n      <td>156784</td>\n      <td>119427</td>\n      <td>2576</td>\n      <td>15</td>\n      <td>4</td>\n      <td>0</td>\n      <td>4</td>\n      <td>1</td>\n      <td>0</td>\n      <td>0</td>\n      <td>4</td>\n    </tr>\n    <tr>\n      <th>2503322</th>\n      <td>0.492801</td>\n      <td>0</td>\n      <td>1.589900e-06</td>\n      <td>0.092107</td>\n      <td>980437</td>\n      <td>275301</td>\n      <td>0</td>\n      <td>245</td>\n      <td>170485</td>\n      <td>118291</td>\n      <td>1</td>\n      <td>0</td>\n      <td>4</td>\n      <td>0</td>\n      <td>4</td>\n      <td>3</td>\n      <td>0</td>\n      <td>0</td>\n      <td>0</td>\n    </tr>\n    <tr>\n      <th>...</th>\n      <td>...</td>\n      <td>...</td>\n      <td>...</td>\n      <td>...</td>\n      <td>...</td>\n      <td>...</td>\n      <td>...</td>\n      <td>...</td>\n      <td>...</td>\n      <td>...</td>\n      <td>...</td>\n      <td>...</td>\n      <td>...</td>\n      <td>...</td>\n      <td>...</td>\n      <td>...</td>\n      <td>...</td>\n      <td>...</td>\n      <td>...</td>\n    </tr>\n    <tr>\n      <th>3353110</th>\n      <td>0.621215</td>\n      <td>0</td>\n      <td>2.159900e-06</td>\n      <td>0.234026</td>\n      <td>495845</td>\n      <td>211059</td>\n      <td>1</td>\n      <td>245</td>\n      <td>126728</td>\n      <td>75484</td>\n      <td>1</td>\n      <td>0</td>\n      <td>9</td>\n      <td>2</td>\n      <td>0</td>\n      <td>0</td>\n      <td>0</td>\n      <td>0</td>\n      <td>1</td>\n    </tr>\n    <tr>\n      <th>2367573</th>\n      <td>0.475052</td>\n      <td>0</td>\n      <td>2.979900e-06</td>\n      <td>0.085002</td>\n      <td>649982</td>\n      <td>190576</td>\n      <td>0</td>\n      <td>245</td>\n      <td>132980</td>\n      <td>103910</td>\n      <td>4182</td>\n      <td>26</td>\n      <td>9</td>\n      <td>2</td>\n      <td>0</td>\n      <td>3</td>\n      <td>0</td>\n      <td>0</td>\n      <td>1</td>\n    </tr>\n    <tr>\n      <th>1683533</th>\n      <td>0.594184</td>\n      <td>0</td>\n      <td>1.879900e-06</td>\n      <td>0.054760</td>\n      <td>216231</td>\n      <td>242976</td>\n      <td>0</td>\n      <td>2591</td>\n      <td>162749</td>\n      <td>123260</td>\n      <td>1</td>\n      <td>0</td>\n      <td>8</td>\n      <td>2</td>\n      <td>3</td>\n      <td>0</td>\n      <td>0</td>\n      <td>0</td>\n      <td>0</td>\n    </tr>\n    <tr>\n      <th>1685721</th>\n      <td>0.368387</td>\n      <td>0</td>\n      <td>3.879000e-07</td>\n      <td>0.054887</td>\n      <td>210045</td>\n      <td>460235</td>\n      <td>1</td>\n      <td>3424</td>\n      <td>125651</td>\n      <td>98958</td>\n      <td>1</td>\n      <td>0</td>\n      <td>8</td>\n      <td>2</td>\n      <td>3</td>\n      <td>0</td>\n      <td>0</td>\n      <td>0</td>\n      <td>4</td>\n    </tr>\n    <tr>\n      <th>1004577</th>\n      <td>0.226344</td>\n      <td>0</td>\n      <td>8.399000e-07</td>\n      <td>0.040111</td>\n      <td>120987</td>\n      <td>788310</td>\n      <td>1</td>\n      <td>75</td>\n      <td>403215</td>\n      <td>112674</td>\n      <td>10487</td>\n      <td>0</td>\n      <td>4</td>\n      <td>0</td>\n      <td>4</td>\n      <td>0</td>\n      <td>0</td>\n      <td>0</td>\n      <td>1</td>\n    </tr>\n  </tbody>\n</table>\n<p>1638400 rows × 19 columns</p>\n</div>"
     },
     "execution_count": 22,
     "metadata": {},
     "output_type": "execute_result"
    }
   ],
   "source": [
    "res"
   ]
  },
  {
   "cell_type": "code",
   "execution_count": 23,
   "id": "72135335",
   "metadata": {},
   "outputs": [
    {
     "name": "stderr",
     "output_type": "stream",
     "text": [
      "/var/folders/9q/hk_sdcp9639b9mc6wk8d79yc0000gn/T/ipykernel_74443/3436892952.py:9: FutureWarning: The frame.append method is deprecated and will be removed from pandas in a future version. Use pandas.concat instead.\n",
      "  train_a = train_a.append(df_group.iloc[0: e,], ignore_index=True)\n",
      "/var/folders/9q/hk_sdcp9639b9mc6wk8d79yc0000gn/T/ipykernel_74443/3436892952.py:10: FutureWarning: The frame.append method is deprecated and will be removed from pandas in a future version. Use pandas.concat instead.\n",
      "  train_b = train_b.append(df_group.iloc[e: 2 * e, ], ignore_index=True)\n",
      "/var/folders/9q/hk_sdcp9639b9mc6wk8d79yc0000gn/T/ipykernel_74443/3436892952.py:11: FutureWarning: The frame.append method is deprecated and will be removed from pandas in a future version. Use pandas.concat instead.\n",
      "  train_c = train_c.append(df_group.iloc[2 * e: 3 * e, ], ignore_index=True)\n",
      "/var/folders/9q/hk_sdcp9639b9mc6wk8d79yc0000gn/T/ipykernel_74443/3436892952.py:12: FutureWarning: The frame.append method is deprecated and will be removed from pandas in a future version. Use pandas.concat instead.\n",
      "  train_d = train_d.append(df_group.iloc[3 * e: 4 * e, ], ignore_index=True)\n"
     ]
    }
   ],
   "source": [
    "# Get the train sef for Meta-Embedding method\n",
    "with open('./cold_start/emb_warm_split_preprocess_taobao-ad.pkl', 'rb+') as f:\n",
    "    data = pickle.load(f)\n",
    "    df_base = data['train_base']\n",
    "item2group = df_base.groupby('item_id')\n",
    "train_a, train_b, train_c, train_d = pd.DataFrame(), pd.DataFrame(), pd.DataFrame(), pd.DataFrame()\n",
    "for item_id, df_group in item2group:\n",
    "    l, e = df_group.shape[0], df_group.shape[0] // 4     \n",
    "    train_a = train_a.append(df_group.iloc[0: e,], ignore_index=True)\n",
    "    train_b = train_b.append(df_group.iloc[e: 2 * e, ], ignore_index=True)\n",
    "    train_c = train_c.append(df_group.iloc[2 * e: 3 * e, ], ignore_index=True)\n",
    "    train_d = train_d.append(df_group.iloc[3 * e: 4 * e, ], ignore_index=True)\n",
    "shuffle_idx = np.random.permutation(train_a.shape[0])\n",
    "train_a = train_a.iloc[shuffle_idx]\n",
    "train_b = train_b.iloc[shuffle_idx]\n",
    "train_c = train_c.iloc[shuffle_idx]\n",
    "train_d = train_d.iloc[shuffle_idx]\n",
    "data[\"metaE_a\"] = train_a\n",
    "data[\"metaE_b\"] = train_b\n",
    "data[\"metaE_c\"] = train_c\n",
    "data[\"metaE_d\"] = train_d\n",
    "with open('./taobao-ad.pkl', 'wb+') as f:\n",
    "    pickle.dump(data, f)"
   ]
  },
  {
   "cell_type": "code",
   "execution_count": 23,
   "id": "1d5b612e",
   "metadata": {},
   "outputs": [],
   "source": []
  },
  {
   "cell_type": "code",
   "execution_count": 23,
   "id": "8bcf960a",
   "metadata": {},
   "outputs": [],
   "source": []
  }
 ],
 "metadata": {
  "kernelspec": {
   "display_name": "Python 3",
   "language": "python",
   "name": "python3"
  },
  "language_info": {
   "codemirror_mode": {
    "name": "ipython",
    "version": 3
   },
   "file_extension": ".py",
   "mimetype": "text/x-python",
   "name": "python",
   "nbconvert_exporter": "python",
   "pygments_lexer": "ipython3",
   "version": "3.8.8"
  },
  "toc": {
   "base_numbering": 1,
   "nav_menu": {},
   "number_sections": true,
   "sideBar": true,
   "skip_h1_title": false,
   "title_cell": "Table of Contents",
   "title_sidebar": "Contents",
   "toc_cell": false,
   "toc_position": {},
   "toc_section_display": true,
   "toc_window_display": false
  }
 },
 "nbformat": 4,
 "nbformat_minor": 5
}